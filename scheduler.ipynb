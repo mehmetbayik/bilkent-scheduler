{
 "cells": [
  {
   "cell_type": "code",
   "execution_count": 2,
   "metadata": {},
   "outputs": [
    {
     "name": "stdout",
     "output_type": "stream",
     "text": [
      "All courses:  ['EEE-212', 'EEE-313', 'EEE-321', 'EEE-351', 'EEE-447', 'EEE-448', 'EEE-485'] \n",
      "\n",
      "Selected courses:  ['EEE-313', 'EEE-321', 'EEE-351', 'EEE-485'] \n",
      "\n",
      "Number of schedules found: 3 \n",
      "\n",
      "EEE-313 Section: 2\n",
      "EEE-321 Section: 1\n",
      "EEE-351 Section: 3\n",
      "EEE-485 Section: 1\n",
      "EEE-313 Section: 3\n",
      "EEE-321 Section: 1\n",
      "EEE-351 Section: 1\n",
      "EEE-485 Section: 1\n",
      "EEE-313 Section: 3\n",
      "EEE-321 Section: 1\n",
      "EEE-351 Section: 3\n",
      "EEE-485 Section: 1\n"
     ]
    }
   ],
   "source": [
    "from scheduler_class import CourseScheduleExtractor\n",
    "courses = ['EEE-313', 'EEE-321', 'EEE-351', 'EEE-485']\n",
    "schedule_string = open('data.txt','r').read()\n",
    "extractor = CourseScheduleExtractor(schedule_string, courses)\n",
    "extractor.get_courses()\n",
    "schedules = extractor.get_schedules()"
   ]
  },
  {
   "cell_type": "code",
   "execution_count": 3,
   "metadata": {},
   "outputs": [],
   "source": [
    "# Convert the DataFrame to a list of dictionaries\n",
    "schedules_json = []\n",
    "for schedule in schedules:\n",
    "    schedules_json.append(schedule.to_dict(orient='records'))"
   ]
  },
  {
   "cell_type": "code",
   "execution_count": 4,
   "metadata": {},
   "outputs": [],
   "source": [
    "import pandas as pd\n",
    "# Convert the schedules back to DataFrame\n",
    "schedules = []\n",
    "for schedule in schedules_json:\n",
    "    schedules.append(pd.DataFrame(schedule))"
   ]
  },
  {
   "cell_type": "code",
   "execution_count": 7,
   "metadata": {},
   "outputs": [],
   "source": [
    "schedules[0].index = ['08:30-09:20', '09:30-10:20', '10:30-11:20', '11:30-12:20', 'Lunch', '13:30-14:20', '14:30-15:20', '15:30-16:20', '16:30-17:20']"
   ]
  },
  {
   "cell_type": "code",
   "execution_count": 9,
   "metadata": {},
   "outputs": [
    {
     "data": {
      "text/plain": [
       "[                   Mon        Tue        Wed        Thu        Fri\n",
       " 08:30-09:20  EEE-321-1  EEE-485-1  EEE-351-3  EEE-313-2           \n",
       " 09:30-10:20  EEE-321-1  EEE-485-1  EEE-351-3  EEE-313-2           \n",
       " 10:30-11:20                                                       \n",
       " 11:30-12:20                                                       \n",
       " 12:30-13:20                                                       \n",
       " 13:30-14:20  EEE-313-2  EEE-313-2  EEE-321-1  EEE-485-1  EEE-351-3\n",
       " 14:30-15:20  EEE-313-2  EEE-313-2  EEE-321-1  EEE-485-1  EEE-351-3\n",
       " 15:30-16:20             EEE-313-2                        EEE-321-1\n",
       " 16:30-17:20             EEE-313-2                        EEE-321-1,\n",
       "          Mon        Tue        Wed        Thu        Fri\n",
       " 0  EEE-321-1  EEE-485-1             EEE-351-1  EEE-313-3\n",
       " 1  EEE-321-1  EEE-485-1             EEE-351-1  EEE-313-3\n",
       " 2             EEE-313-3                        EEE-313-3\n",
       " 3             EEE-313-3                        EEE-313-3\n",
       " 4                                                       \n",
       " 5  EEE-351-1             EEE-321-1  EEE-485-1           \n",
       " 6  EEE-351-1             EEE-321-1  EEE-485-1           \n",
       " 7                                   EEE-313-3  EEE-321-1\n",
       " 8                                   EEE-313-3  EEE-321-1,\n",
       "          Mon        Tue        Wed        Thu        Fri\n",
       " 0  EEE-321-1  EEE-485-1  EEE-351-3             EEE-313-3\n",
       " 1  EEE-321-1  EEE-485-1  EEE-351-3             EEE-313-3\n",
       " 2             EEE-313-3                        EEE-313-3\n",
       " 3             EEE-313-3                        EEE-313-3\n",
       " 4                                                       \n",
       " 5                        EEE-321-1  EEE-485-1  EEE-351-3\n",
       " 6                        EEE-321-1  EEE-485-1  EEE-351-3\n",
       " 7                                   EEE-313-3  EEE-321-1\n",
       " 8                                   EEE-313-3  EEE-321-1]"
      ]
     },
     "execution_count": 9,
     "metadata": {},
     "output_type": "execute_result"
    }
   ],
   "source": [
    "schedules"
   ]
  },
  {
   "cell_type": "code",
   "execution_count": null,
   "metadata": {},
   "outputs": [],
   "source": []
  }
 ],
 "metadata": {
  "kernelspec": {
   "display_name": "cs464",
   "language": "python",
   "name": "python3"
  },
  "language_info": {
   "codemirror_mode": {
    "name": "ipython",
    "version": 3
   },
   "file_extension": ".py",
   "mimetype": "text/x-python",
   "name": "python",
   "nbconvert_exporter": "python",
   "pygments_lexer": "ipython3",
   "version": "3.8.17"
  },
  "orig_nbformat": 4
 },
 "nbformat": 4,
 "nbformat_minor": 2
}
