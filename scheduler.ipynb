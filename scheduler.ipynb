{
 "cells": [
  {
   "cell_type": "code",
   "execution_count": 1,
   "metadata": {},
   "outputs": [],
   "source": [
    "from scheduler_class import CourseScheduleExtractor\n",
    "courses = ['EEE-313', 'EEE-321', 'EEE-351', 'EEE-485']\n",
    "schedule_string = open('data.txt','r').read()\n",
    "extractor = CourseScheduleExtractor(schedule_string, courses)\n"
   ]
  },
  {
   "cell_type": "code",
   "execution_count": 2,
   "metadata": {},
   "outputs": [
    {
     "name": "stdout",
     "output_type": "stream",
     "text": [
      "All courses:  ['EEE-212', 'EEE-313', 'EEE-321', 'EEE-351', 'EEE-447', 'EEE-448', 'EEE-485'] \n",
      "\n"
     ]
    }
   ],
   "source": [
    "extractor.get_courses()\n"
   ]
  },
  {
   "cell_type": "code",
   "execution_count": null,
   "metadata": {},
   "outputs": [],
   "source": [
    "schedules = extractor.get_schedules()"
   ]
  }
 ],
 "metadata": {
  "kernelspec": {
   "display_name": "cs464",
   "language": "python",
   "name": "python3"
  },
  "language_info": {
   "codemirror_mode": {
    "name": "ipython",
    "version": 3
   },
   "file_extension": ".py",
   "mimetype": "text/x-python",
   "name": "python",
   "nbconvert_exporter": "python",
   "pygments_lexer": "ipython3",
   "version": "3.8.17"
  },
  "orig_nbformat": 4
 },
 "nbformat": 4,
 "nbformat_minor": 2
}
