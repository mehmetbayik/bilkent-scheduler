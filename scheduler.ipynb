{
 "cells": [
  {
   "cell_type": "code",
   "execution_count": 39,
   "metadata": {},
   "outputs": [
    {
     "name": "stdout",
     "output_type": "stream",
     "text": [
      "All courses:  ['EEE-342', 'EEE-351', 'EEE-424', 'EEE-428', 'EEE-431', 'EEE-442', 'EEE-443', 'EEE-473', 'EEE-485', 'EEE-491', 'EEE-493', 'EEE-495', 'EEE-501', 'EEE-514', 'EEE-528', 'EEE-533', 'EEE-542', 'EEE-543', 'EEE-560', 'EEE-573', 'EEE-585', 'EEE-603', 'EEE-634'] \n",
      "\n",
      "Selected courses:  ['EEE-351', 'EEE-443', 'EEE-473', 'EEE-431', 'EEE-491'] \n",
      "\n",
      "Number of schedules found: 1 \n",
      "\n",
      "EEE-351 Section: 1  Vakur Behçet Ertürk\n",
      "EEE-443 Section: 1  Tolga Çukur\n",
      "EEE-473 Section: 1  Emine Ülkü Sarıtaş\n",
      "EEE-431 Section: 1  Nail Akar\n",
      "EEE-491 Section: 1  İsmail Enis Ungan\n"
     ]
    },
    {
     "data": {
      "text/html": [
       "<div>\n",
       "<style scoped>\n",
       "    .dataframe tbody tr th:only-of-type {\n",
       "        vertical-align: middle;\n",
       "    }\n",
       "\n",
       "    .dataframe tbody tr th {\n",
       "        vertical-align: top;\n",
       "    }\n",
       "\n",
       "    .dataframe thead th {\n",
       "        text-align: right;\n",
       "    }\n",
       "</style>\n",
       "<table border=\"1\" class=\"dataframe\">\n",
       "  <thead>\n",
       "    <tr style=\"text-align: right;\">\n",
       "      <th></th>\n",
       "      <th>Mon</th>\n",
       "      <th>Tue</th>\n",
       "      <th>Wed</th>\n",
       "      <th>Thu</th>\n",
       "      <th>Fri</th>\n",
       "    </tr>\n",
       "  </thead>\n",
       "  <tbody>\n",
       "    <tr>\n",
       "      <th>1</th>\n",
       "      <td></td>\n",
       "      <td>EEE-473-1</td>\n",
       "      <td>EEE-443-1</td>\n",
       "      <td>EEE-351-1</td>\n",
       "      <td>EEE-431-1</td>\n",
       "    </tr>\n",
       "    <tr>\n",
       "      <th>2</th>\n",
       "      <td></td>\n",
       "      <td>EEE-473-1</td>\n",
       "      <td>EEE-443-1</td>\n",
       "      <td>EEE-351-1</td>\n",
       "      <td>EEE-431-1</td>\n",
       "    </tr>\n",
       "    <tr>\n",
       "      <th>3</th>\n",
       "      <td></td>\n",
       "      <td></td>\n",
       "      <td>EEE-491-1</td>\n",
       "      <td></td>\n",
       "      <td></td>\n",
       "    </tr>\n",
       "    <tr>\n",
       "      <th>4</th>\n",
       "      <td></td>\n",
       "      <td></td>\n",
       "      <td>EEE-491-1</td>\n",
       "      <td></td>\n",
       "      <td></td>\n",
       "    </tr>\n",
       "    <tr>\n",
       "      <th>L</th>\n",
       "      <td></td>\n",
       "      <td></td>\n",
       "      <td></td>\n",
       "      <td></td>\n",
       "      <td></td>\n",
       "    </tr>\n",
       "    <tr>\n",
       "      <th>5</th>\n",
       "      <td>EEE-351-1</td>\n",
       "      <td>EEE-431-1</td>\n",
       "      <td></td>\n",
       "      <td>EEE-473-1</td>\n",
       "      <td>EEE-443-1</td>\n",
       "    </tr>\n",
       "    <tr>\n",
       "      <th>6</th>\n",
       "      <td>EEE-351-1</td>\n",
       "      <td>EEE-431-1</td>\n",
       "      <td></td>\n",
       "      <td>EEE-473-1</td>\n",
       "      <td>EEE-443-1</td>\n",
       "    </tr>\n",
       "    <tr>\n",
       "      <th>7</th>\n",
       "      <td></td>\n",
       "      <td></td>\n",
       "      <td></td>\n",
       "      <td></td>\n",
       "      <td></td>\n",
       "    </tr>\n",
       "    <tr>\n",
       "      <th>8</th>\n",
       "      <td></td>\n",
       "      <td></td>\n",
       "      <td></td>\n",
       "      <td></td>\n",
       "      <td></td>\n",
       "    </tr>\n",
       "  </tbody>\n",
       "</table>\n",
       "</div>"
      ],
      "text/plain": [
       "         Mon        Tue        Wed        Thu        Fri\n",
       "1             EEE-473-1  EEE-443-1  EEE-351-1  EEE-431-1\n",
       "2             EEE-473-1  EEE-443-1  EEE-351-1  EEE-431-1\n",
       "3                        EEE-491-1                      \n",
       "4                        EEE-491-1                      \n",
       "L                                                       \n",
       "5  EEE-351-1  EEE-431-1             EEE-473-1  EEE-443-1\n",
       "6  EEE-351-1  EEE-431-1             EEE-473-1  EEE-443-1\n",
       "7                                                       \n",
       "8                                                       "
      ]
     },
     "metadata": {},
     "output_type": "display_data"
    }
   ],
   "source": [
    "from scheduler_class import CourseScheduleExtractor\n",
    "courses = ['EEE-351', 'EEE-443', 'EEE-473', 'EEE-431', 'EEE-491']\n",
    "#courses = ['EEE-431','EEE-493', 'EEE-443', 'EEE-442', 'EEE-424']# 'CS-464', 'CS-421', 'THR-110'\n",
    "schedule_string = open('data.txt','r').read()\n",
    "extractor = CourseScheduleExtractor(schedule_string, courses)\n",
    "extractor.get_courses()\n",
    "schedules = extractor.get_schedules()\n",
    "#extractor.get_course_info('CSS-464')\n"
   ]
  },
  {
   "cell_type": "code",
   "execution_count": 33,
   "metadata": {},
   "outputs": [
    {
     "data": {
      "text/plain": [
       "[{'Course Code': 'EEE-424',\n",
       "  'Section Number': '1',\n",
       "  'Course Name': 'Digital Signal Processing',\n",
       "  'Instructor Name': 'Süleyman Serdar Kozat',\n",
       "  'Lecture Hours': ['Mon 08:30-10:20', 'Wed 13:30-15:20']}]"
      ]
     },
     "execution_count": 33,
     "metadata": {},
     "output_type": "execute_result"
    }
   ],
   "source": [
    "extractor.get_course_info('EEE-424')"
   ]
  }
 ],
 "metadata": {
  "kernelspec": {
   "display_name": "cs464",
   "language": "python",
   "name": "python3"
  },
  "language_info": {
   "codemirror_mode": {
    "name": "ipython",
    "version": 3
   },
   "file_extension": ".py",
   "mimetype": "text/x-python",
   "name": "python",
   "nbconvert_exporter": "python",
   "pygments_lexer": "ipython3",
   "version": "3.8.17"
  },
  "orig_nbformat": 4
 },
 "nbformat": 4,
 "nbformat_minor": 2
}
