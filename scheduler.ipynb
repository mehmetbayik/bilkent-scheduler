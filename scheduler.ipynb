{
 "cells": [
  {
   "cell_type": "code",
   "execution_count": 44,
   "metadata": {},
   "outputs": [],
   "source": [
    "import numpy as np\n",
    "import pandas as pd"
   ]
  },
  {
   "cell_type": "code",
   "execution_count": 22,
   "metadata": {},
   "outputs": [],
   "source": [
    "#I want to create course weekly scheduler for my courses.\n",
    "#Create a dataframe with 9 rows and 6 columns.\n",
    "rows=['1', '2', '3', '4', 'L', '5', '6', '7', '8']\n",
    "cols=['Monday', 'Tuesday', 'Wednesday', 'Thursday', 'Friday']\n",
    "df = pd.DataFrame(index=rows, columns=cols, data='-')"
   ]
  },
  {
   "cell_type": "code",
   "execution_count": 65,
   "metadata": {},
   "outputs": [],
   "source": [
    "import re\n",
    "\n",
    "class CourseScheduleExtractor:\n",
    "    def __init__(self, schedule_string):\n",
    "        self.schedule_string = schedule_string\n",
    "\n",
    "    def extract_course_info(self):\n",
    "        pattern = r'(\\b[A-Z]{3} \\d{3}-\\d+)\\s+(.+)\\s+([A-Za-zÇçĞğİıÖöŞşÜü\\s]+)\\s+header'\n",
    "        matches = re.findall(pattern, self.schedule_string)\n",
    "        course_info_list = []\n",
    "        new_str= schedule_string.split('header=[Hint] body=[Syllabus]')\n",
    "        #print(new_str)\n",
    "        for match in matches:\n",
    "            #weekdays = []\n",
    "            #hours = []\n",
    "            lecture_hours = []\n",
    "            i = matches.index(match)\n",
    "            #print(i)\n",
    "            course = match[0].strip().split('-')\n",
    "            course_code = course[0].split(' ')[0] + '-' + course[0].split(' ')[1]\n",
    "            section_number = course[1]\n",
    "            course_name = match[1].strip()\n",
    "            instructor_name = match[2].strip()\n",
    "            parts = re.findall(r'(Mon|Tue|Wed|Thu|Fri) (\\d{2}:\\d{2}-\\d{2}:\\d{2})', new_str[i])\n",
    "            for part in parts:\n",
    "                #weekdays.append(part[0])\n",
    "                #hours.append(part[1])\n",
    "                lecture_hours.append(part[0] + ' ' + part[1])\n",
    "            course_info = {\n",
    "                \"Course Code\": course_code,\n",
    "                \"Section Number\": section_number,\n",
    "                \"Course Name\": course_name,\n",
    "                \"Instructor Name\": instructor_name,\n",
    "                #\"Weekdays\": weekdays,\n",
    "                #\"Hours\": hours,\n",
    "                \"Lecture Hours\": lecture_hours\n",
    "            }\n",
    "            course_info_list.append(course_info)\n",
    "        return course_info_list\n",
    "    \n",
    "    def get_course_info(self):\n",
    "        course_info_list = self.extract_course_info()\n",
    "        for course_info in course_info_list:\n",
    "            print(course_info)\n",
    "        return course_info_list\n"
   ]
  },
  {
   "cell_type": "code",
   "execution_count": 62,
   "metadata": {},
   "outputs": [],
   "source": [
    "# Example usage:\n",
    "schedule_string = '''EEE 313-1    Electronic Circuit Design    \n",
    "Erdinç Tatar    header=[Hint] body=[Info & Courses] header=[Hint] body=[Old Courses of Instructor] header=[Hint] body=[Instructor Evaluation]\n",
    "3     4     4     6.5    55 Mand. or Elect.    55    0    0    0    55 Mand. or Elect.    55    Mon 15:30-17:20\n",
    "Tue 08:30-12:20\n",
    "Thu 10:30-12:20\n",
    "header=[Hint] body=[Syllabus]  \n",
    "EEE 313-2    Electronic Circuit Design    \n",
    "Erdinç Tatar    header=[Hint] body=[Info & Courses] header=[Hint] body=[Old Courses of Instructor] header=[Hint] body=[Instructor Evaluation]\n",
    "3     4     4     6.5    55 Mand. or Elect.    55    0    0    0    55 Mand. or Elect.    55    Mon 13:30-15:20\n",
    "Tue 13:30-17:20\n",
    "Thu 08:30-10:20\n",
    "header=[Hint] body=[Syllabus]  \n",
    "EEE 313-3    Electronic Circuit Design    \n",
    "Erdinç Tatar    header=[Hint] body=[Info & Courses] header=[Hint] body=[Old Courses of Instructor] header=[Hint] body=[Instructor Evaluation]\n",
    "3     4     4     6.5    55 Mand. or Elect.    55    0    0    0    55 Mand. or Elect.    55    Tue 10:30-12:20\n",
    "Thu 15:30-17:20\n",
    "Fri 08:30-12:20\n",
    "header=[Hint] body=[Syllabus]    \n",
    "EEE 321-1\tSignals and Systems\t\n",
    "Süleyman Serdar Kozat\theader=[Hint] body=[Info & Courses] header=[Hint] body=[Old Courses of Instructor] header=[Hint] body=[Instructor Evaluation]\n",
    "3\t2\t4\t6.5\t55 Mand. or Elect.\t55\t0\t0\t0\t55 Mand. or Elect.\t55\tMon 08:30-10:20\n",
    "Wed 13:30-15:20\n",
    "Fri 15:30-17:20\n",
    "header=[Hint] body=[Syllabus]  \n",
    "EEE 321-2\tSignals and Systems\t\n",
    "Süleyman Serdar Kozat\theader=[Hint] body=[Info & Courses] header=[Hint] body=[Old Courses of Instructor] header=[Hint] body=[Instructor Evaluation]\n",
    "3\t2\t4\t6.5\t55 Mand. or Elect.\t55\t0\t0\t0\t55 Mand. or Elect.\t55\tMon 10:30-12:20\n",
    "Wed 15:30-17:20\n",
    "Thu 13:30-15:20\n",
    "header=[Hint] body=[Syllabus]  \n",
    "EEE 351-1\tEngineering Electromagnetics\t\n",
    "Vakur Behçet Ertürk\theader=[Hint] body=[Info & Courses] header=[Hint] body=[Old Courses of Instructor] header=[Hint] body=[Instructor Evaluation]\n",
    "3\t0\t3\t5\t65 Mand. or Elect.\t65\t0\t0\t0\t65 Mand. or Elect.\t65\tMon 13:30-15:20\n",
    "Thu 08:30-10:20\n",
    "header=[Hint] body=[Syllabus]  \n",
    "EEE 351-2\tEngineering Electromagnetics\t\n",
    "Ayhan Altıntaş\theader=[Hint] body=[Info & Courses] header=[Hint] body=[Old Courses of Instructor] header=[Hint] body=[Instructor Evaluation]\n",
    "3\t0\t3\t5\t65 Mand. or Elect.\t65\t0\t0\t0\t65 Mand. or Elect.\t65\tWed 10:30-12:20\n",
    "Fri 15:30-17:20\n",
    "header=[Hint] body=[Syllabus]  \n",
    "EEE 351-3\tEngineering Electromagnetics\t\n",
    "Ayhan Altıntaş\theader=[Hint] body=[Info & Courses] header=[Hint] body=[Old Courses of Instructor] header=[Hint] body=[Instructor Evaluation]\n",
    "3\t0\t3\t5\t65 Mand. or Elect.\t65\t0\t0\t0\t65 Mand. or Elect.\t65\tWed 08:30-10:20\n",
    "Fri 13:30-15:20\n",
    "header=[Hint] body=[Syllabus]  \n",
    "EEE 447-1\tIntroduction to Robotics\t\n",
    "Billur Barshan\theader=[Hint] body=[Info & Courses] header=[Hint] body=[Old Courses of Instructor] header=[Hint] body=[Instructor Evaluation]\n",
    "3\t0\t3\t5\t40 Mand. or Elect.\t40\t0\t0\t0\t40 Mand. or Elect.\t40\tMon 13:30-15:20\n",
    "Thu 08:30-10:20\n",
    "header=[Hint] body=[Syllabus]  \n",
    "EEE 448-1\tReinforcement Learning and Dynamic Programming\t\n",
    "Muhammed Ömer Sayın\theader=[Hint] body=[Info & Courses] header=[Hint] body=[Old Courses of Instructor] header=[Hint] body=[Instructor Evaluation]\n",
    "3\t0\t3\t5\t50 Mand. or Elect.\t50\t0\t0\t0\t50 Mand. or Elect.\t50\tMon 08:30-10:20\n",
    "Wed 13:30-15:20\n",
    "header=[Hint] body=[Syllabus]  \n",
    "EEE 485-1\tStatistical Learning and Data Analytics\t\n",
    "Cem Tekin\theader=[Hint] body=[Info & Courses] header=[Hint] body=[Old Courses of Instructor] header=[Hint] body=[Instructor Evaluation]\n",
    "3\t0\t3\t5\t55 Mand. or Elect.\t55\t0\t0\t0\t55 Mand. or Elect.\t55\tTue 08:30-10:20\n",
    "Thu 13:30-15:20\n",
    "header=[Hint] body=[Syllabus]  \n",
    "'''"
   ]
  },
  {
   "cell_type": "code",
   "execution_count": 66,
   "metadata": {},
   "outputs": [
    {
     "data": {
      "text/plain": [
       "[{'Course Code': 'EEE-313',\n",
       "  'Section Number': '1',\n",
       "  'Course Name': 'Electronic Circuit Design',\n",
       "  'Instructor Name': 'Erdinç Tatar',\n",
       "  'Lecture Hours': ['Mon 15:30-17:20', 'Tue 08:30-12:20', 'Thu 10:30-12:20']},\n",
       " {'Course Code': 'EEE-313',\n",
       "  'Section Number': '2',\n",
       "  'Course Name': 'Electronic Circuit Design',\n",
       "  'Instructor Name': 'Erdinç Tatar',\n",
       "  'Lecture Hours': ['Mon 13:30-15:20', 'Tue 13:30-17:20', 'Thu 08:30-10:20']},\n",
       " {'Course Code': 'EEE-313',\n",
       "  'Section Number': '3',\n",
       "  'Course Name': 'Electronic Circuit Design',\n",
       "  'Instructor Name': 'Erdinç Tatar',\n",
       "  'Lecture Hours': ['Tue 10:30-12:20', 'Thu 15:30-17:20', 'Fri 08:30-12:20']},\n",
       " {'Course Code': 'EEE-321',\n",
       "  'Section Number': '1',\n",
       "  'Course Name': 'Signals and Systems',\n",
       "  'Instructor Name': 'Süleyman Serdar Kozat',\n",
       "  'Lecture Hours': ['Mon 08:30-10:20', 'Wed 13:30-15:20', 'Fri 15:30-17:20']},\n",
       " {'Course Code': 'EEE-321',\n",
       "  'Section Number': '2',\n",
       "  'Course Name': 'Signals and Systems',\n",
       "  'Instructor Name': 'Süleyman Serdar Kozat',\n",
       "  'Lecture Hours': ['Mon 10:30-12:20', 'Wed 15:30-17:20', 'Thu 13:30-15:20']},\n",
       " {'Course Code': 'EEE-351',\n",
       "  'Section Number': '1',\n",
       "  'Course Name': 'Engineering Electromagnetics',\n",
       "  'Instructor Name': 'Vakur Behçet Ertürk',\n",
       "  'Lecture Hours': ['Mon 13:30-15:20', 'Thu 08:30-10:20']},\n",
       " {'Course Code': 'EEE-351',\n",
       "  'Section Number': '2',\n",
       "  'Course Name': 'Engineering Electromagnetics',\n",
       "  'Instructor Name': 'Ayhan Altıntaş',\n",
       "  'Lecture Hours': ['Wed 10:30-12:20', 'Fri 15:30-17:20']},\n",
       " {'Course Code': 'EEE-351',\n",
       "  'Section Number': '3',\n",
       "  'Course Name': 'Engineering Electromagnetics',\n",
       "  'Instructor Name': 'Ayhan Altıntaş',\n",
       "  'Lecture Hours': ['Wed 08:30-10:20', 'Fri 13:30-15:20']},\n",
       " {'Course Code': 'EEE-447',\n",
       "  'Section Number': '1',\n",
       "  'Course Name': 'Introduction to Robotics',\n",
       "  'Instructor Name': 'Billur Barshan',\n",
       "  'Lecture Hours': ['Mon 13:30-15:20', 'Thu 08:30-10:20']},\n",
       " {'Course Code': 'EEE-448',\n",
       "  'Section Number': '1',\n",
       "  'Course Name': 'Reinforcement Learning and Dynamic Programming',\n",
       "  'Instructor Name': 'Muhammed Ömer Sayın',\n",
       "  'Lecture Hours': ['Mon 08:30-10:20', 'Wed 13:30-15:20']},\n",
       " {'Course Code': 'EEE-485',\n",
       "  'Section Number': '1',\n",
       "  'Course Name': 'Statistical Learning and Data Analytics',\n",
       "  'Instructor Name': 'Cem Tekin',\n",
       "  'Lecture Hours': ['Tue 08:30-10:20', 'Thu 13:30-15:20']}]"
      ]
     },
     "execution_count": 66,
     "metadata": {},
     "output_type": "execute_result"
    }
   ],
   "source": [
    "course_info_list"
   ]
  },
  {
   "cell_type": "code",
   "execution_count": 55,
   "metadata": {},
   "outputs": [
    {
     "name": "stdout",
     "output_type": "stream",
     "text": [
      "Number of different course codes: 6\n",
      "Different Course codes: ['EEE-313', 'EEE-321', 'EEE-351', 'EEE-447', 'EEE-448', 'EEE-485']\n",
      "EEE-313 course have 3 sections\n",
      "EEE-321 course have 2 sections\n",
      "EEE-351 course have 3 sections\n",
      "EEE-447 course have 1 sections\n",
      "EEE-448 course have 1 sections\n",
      "EEE-485 course have 1 sections\n"
     ]
    }
   ],
   "source": [
    "course_codes = list(set(course_info[\"Course Code\"] for course_info in course_info_list))\n",
    "course_codes.sort()\n",
    "print(\"Number of different course codes:\", len(course_codes))\n",
    "filtered_courses = []\n",
    "print(\"Different Course codes:\", course_codes)\n",
    "for course in range(len(course_codes)):\n",
    "    filtered_courses.append([course_info for course_info in course_info_list if course_info[\"Course Code\"] == str(course_codes[course])])\n",
    "    print(str(course_codes[course])+' course have '+str(len(filtered_courses[course]))+ ' sections')"
   ]
  },
  {
   "cell_type": "code",
   "execution_count": 59,
   "metadata": {},
   "outputs": [
    {
     "data": {
      "text/plain": [
       "[{'Course Code': 'EEE-313',\n",
       "  'Section Number': '1',\n",
       "  'Course Name': 'Electronic Circuit Design',\n",
       "  'Instructor Name': 'Erdinç Tatar',\n",
       "  'Lecture Hours': ['Mon 15:30-17:20', 'Tue 08:30-12:20', 'Thu 10:30-12:20']},\n",
       " {'Course Code': 'EEE-313',\n",
       "  'Section Number': '2',\n",
       "  'Course Name': 'Electronic Circuit Design',\n",
       "  'Instructor Name': 'Erdinç Tatar',\n",
       "  'Lecture Hours': ['Mon 13:30-15:20', 'Tue 13:30-17:20', 'Thu 08:30-10:20']},\n",
       " {'Course Code': 'EEE-313',\n",
       "  'Section Number': '3',\n",
       "  'Course Name': 'Electronic Circuit Design',\n",
       "  'Instructor Name': 'Erdinç Tatar',\n",
       "  'Lecture Hours': ['Tue 10:30-12:20', 'Thu 15:30-17:20', 'Fri 08:30-12:20']}]"
      ]
     },
     "execution_count": 59,
     "metadata": {},
     "output_type": "execute_result"
    }
   ],
   "source": [
    "filtered_courses[course_codes.index(\"EEE-313\")]"
   ]
  },
  {
   "cell_type": "code",
   "execution_count": null,
   "metadata": {},
   "outputs": [],
   "source": []
  }
 ],
 "metadata": {
  "kernelspec": {
   "display_name": "cs464",
   "language": "python",
   "name": "python3"
  },
  "language_info": {
   "codemirror_mode": {
    "name": "ipython",
    "version": 3
   },
   "file_extension": ".py",
   "mimetype": "text/x-python",
   "name": "python",
   "nbconvert_exporter": "python",
   "pygments_lexer": "ipython3",
   "version": "3.8.17"
  },
  "orig_nbformat": 4
 },
 "nbformat": 4,
 "nbformat_minor": 2
}
