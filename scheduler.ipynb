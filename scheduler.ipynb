{
 "cells": [
  {
   "cell_type": "code",
   "execution_count": 7,
   "metadata": {},
   "outputs": [
    {
     "name": "stdout",
     "output_type": "stream",
     "text": [
      "All courses:  ['EEE-212', 'EEE-313', 'EEE-321', 'EEE-351', 'EEE-447', 'EEE-448', 'EEE-485'] \n",
      "\n",
      "Selected courses:  ['EEE-313', 'EEE-321', 'EEE-351', 'EEE-485'] \n",
      "\n",
      "Number of schedules found: 3 \n",
      "\n",
      "EEE-313 Section: 2\n",
      "EEE-321 Section: 1\n",
      "EEE-351 Section: 3\n",
      "EEE-485 Section: 1\n",
      "EEE-313 Section: 3\n",
      "EEE-321 Section: 1\n",
      "EEE-351 Section: 1\n",
      "EEE-485 Section: 1\n",
      "EEE-313 Section: 3\n",
      "EEE-321 Section: 1\n",
      "EEE-351 Section: 3\n",
      "EEE-485 Section: 1\n"
     ]
    }
   ],
   "source": [
    "from scheduler_class import CourseScheduleExtractor\n",
    "courses = ['EEE-313', 'EEE-321', 'EEE-351', 'EEE-485']\n",
    "schedule_string = open('data.txt','r').read()\n",
    "extractor = CourseScheduleExtractor(schedule_string, courses)\n",
    "extractor.get_courses()\n",
    "schedules = extractor.get_schedules()"
   ]
  },
  {
   "cell_type": "code",
   "execution_count": 9,
   "metadata": {},
   "outputs": [
    {
     "data": {
      "text/plain": [
       "[[{'Mon': 'EEE-321-1',\n",
       "   'Tue': 'EEE-485-1',\n",
       "   'Wed': 'EEE-351-3',\n",
       "   'Thu': 'EEE-313-2',\n",
       "   'Fri': ''},\n",
       "  {'Mon': 'EEE-321-1',\n",
       "   'Tue': 'EEE-485-1',\n",
       "   'Wed': 'EEE-351-3',\n",
       "   'Thu': 'EEE-313-2',\n",
       "   'Fri': ''},\n",
       "  {'Mon': '', 'Tue': '', 'Wed': '', 'Thu': '', 'Fri': ''},\n",
       "  {'Mon': '', 'Tue': '', 'Wed': '', 'Thu': '', 'Fri': ''},\n",
       "  {'Mon': '', 'Tue': '', 'Wed': '', 'Thu': '', 'Fri': ''},\n",
       "  {'Mon': 'EEE-313-2',\n",
       "   'Tue': 'EEE-313-2',\n",
       "   'Wed': 'EEE-321-1',\n",
       "   'Thu': 'EEE-485-1',\n",
       "   'Fri': 'EEE-351-3'},\n",
       "  {'Mon': 'EEE-313-2',\n",
       "   'Tue': 'EEE-313-2',\n",
       "   'Wed': 'EEE-321-1',\n",
       "   'Thu': 'EEE-485-1',\n",
       "   'Fri': 'EEE-351-3'},\n",
       "  {'Mon': '', 'Tue': 'EEE-313-2', 'Wed': '', 'Thu': '', 'Fri': 'EEE-321-1'},\n",
       "  {'Mon': '', 'Tue': 'EEE-313-2', 'Wed': '', 'Thu': '', 'Fri': 'EEE-321-1'}],\n",
       " [{'Mon': 'EEE-321-1',\n",
       "   'Tue': 'EEE-485-1',\n",
       "   'Wed': '',\n",
       "   'Thu': 'EEE-351-1',\n",
       "   'Fri': 'EEE-313-3'},\n",
       "  {'Mon': 'EEE-321-1',\n",
       "   'Tue': 'EEE-485-1',\n",
       "   'Wed': '',\n",
       "   'Thu': 'EEE-351-1',\n",
       "   'Fri': 'EEE-313-3'},\n",
       "  {'Mon': '', 'Tue': 'EEE-313-3', 'Wed': '', 'Thu': '', 'Fri': 'EEE-313-3'},\n",
       "  {'Mon': '', 'Tue': 'EEE-313-3', 'Wed': '', 'Thu': '', 'Fri': 'EEE-313-3'},\n",
       "  {'Mon': '', 'Tue': '', 'Wed': '', 'Thu': '', 'Fri': ''},\n",
       "  {'Mon': 'EEE-351-1',\n",
       "   'Tue': '',\n",
       "   'Wed': 'EEE-321-1',\n",
       "   'Thu': 'EEE-485-1',\n",
       "   'Fri': ''},\n",
       "  {'Mon': 'EEE-351-1',\n",
       "   'Tue': '',\n",
       "   'Wed': 'EEE-321-1',\n",
       "   'Thu': 'EEE-485-1',\n",
       "   'Fri': ''},\n",
       "  {'Mon': '', 'Tue': '', 'Wed': '', 'Thu': 'EEE-313-3', 'Fri': 'EEE-321-1'},\n",
       "  {'Mon': '', 'Tue': '', 'Wed': '', 'Thu': 'EEE-313-3', 'Fri': 'EEE-321-1'}],\n",
       " [{'Mon': 'EEE-321-1',\n",
       "   'Tue': 'EEE-485-1',\n",
       "   'Wed': 'EEE-351-3',\n",
       "   'Thu': '',\n",
       "   'Fri': 'EEE-313-3'},\n",
       "  {'Mon': 'EEE-321-1',\n",
       "   'Tue': 'EEE-485-1',\n",
       "   'Wed': 'EEE-351-3',\n",
       "   'Thu': '',\n",
       "   'Fri': 'EEE-313-3'},\n",
       "  {'Mon': '', 'Tue': 'EEE-313-3', 'Wed': '', 'Thu': '', 'Fri': 'EEE-313-3'},\n",
       "  {'Mon': '', 'Tue': 'EEE-313-3', 'Wed': '', 'Thu': '', 'Fri': 'EEE-313-3'},\n",
       "  {'Mon': '', 'Tue': '', 'Wed': '', 'Thu': '', 'Fri': ''},\n",
       "  {'Mon': '',\n",
       "   'Tue': '',\n",
       "   'Wed': 'EEE-321-1',\n",
       "   'Thu': 'EEE-485-1',\n",
       "   'Fri': 'EEE-351-3'},\n",
       "  {'Mon': '',\n",
       "   'Tue': '',\n",
       "   'Wed': 'EEE-321-1',\n",
       "   'Thu': 'EEE-485-1',\n",
       "   'Fri': 'EEE-351-3'},\n",
       "  {'Mon': '', 'Tue': '', 'Wed': '', 'Thu': 'EEE-313-3', 'Fri': 'EEE-321-1'},\n",
       "  {'Mon': '', 'Tue': '', 'Wed': '', 'Thu': 'EEE-313-3', 'Fri': 'EEE-321-1'}]]"
      ]
     },
     "execution_count": 9,
     "metadata": {},
     "output_type": "execute_result"
    }
   ],
   "source": [
    "schedules_json = []\n",
    "for schedule in schedules:\n",
    "    schedules_json.append(schedule.to_dict(orient='records'))\n",
    "schedules_json"
   ]
  }
 ],
 "metadata": {
  "kernelspec": {
   "display_name": "cs464",
   "language": "python",
   "name": "python3"
  },
  "language_info": {
   "codemirror_mode": {
    "name": "ipython",
    "version": 3
   },
   "file_extension": ".py",
   "mimetype": "text/x-python",
   "name": "python",
   "nbconvert_exporter": "python",
   "pygments_lexer": "ipython3",
   "version": "3.8.17"
  },
  "orig_nbformat": 4
 },
 "nbformat": 4,
 "nbformat_minor": 2
}
